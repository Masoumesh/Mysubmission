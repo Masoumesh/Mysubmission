{
 "cells": [
  {
   "cell_type": "markdown",
   "id": "45d57684",
   "metadata": {},
   "source": [
    "# My Jupyter Notebook on IBM Watson Studio\n"
   ]
  },
  {
   "cell_type": "markdown",
   "id": "acaaf3fe",
   "metadata": {},
   "source": [
    "<b> Masoume Shahbazi\n",
    "    \n",
    "Biologist"
   ]
  },
  {
   "cell_type": "markdown",
   "id": "eddeea20",
   "metadata": {},
   "source": [
    "<i> I'm intrested in Data Science because it helps me to analyse the biology data and find new things about the brain and neuroscience"
   ]
  },
  {
   "cell_type": "markdown",
   "id": "61b1c856",
   "metadata": {},
   "source": [
    "### The below should print \" Hello World!\""
   ]
  },
  {
   "cell_type": "code",
   "execution_count": 2,
   "id": "8aad1e93",
   "metadata": {
    "scrolled": true
   },
   "outputs": [
    {
     "name": "stdout",
     "output_type": "stream",
     "text": [
      "Hello World!\n"
     ]
    }
   ],
   "source": [
    "print (\"Hello World!\")"
   ]
  },
  {
   "cell_type": "code",
   "execution_count": null,
   "id": "1516f609",
   "metadata": {},
   "outputs": [],
   "source": []
  }
 ],
 "metadata": {
  "kernelspec": {
   "display_name": "Python 3 (ipykernel)",
   "language": "python",
   "name": "python3"
  },
  "language_info": {
   "codemirror_mode": {
    "name": "ipython",
    "version": 3
   },
   "file_extension": ".py",
   "mimetype": "text/x-python",
   "name": "python",
   "nbconvert_exporter": "python",
   "pygments_lexer": "ipython3",
   "version": "3.9.12"
  }
 },
 "nbformat": 4,
 "nbformat_minor": 5
}
